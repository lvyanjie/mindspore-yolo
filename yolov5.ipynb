{
 "cells": [
  {
   "cell_type": "code",
   "execution_count": 5,
   "id": "dd03ba59",
   "metadata": {},
   "outputs": [],
   "source": [
    "# package 导入\n",
    "import yaml\n",
    "import cv2\n",
    "\n",
    "import mindspore\n",
    "from mindspore import nn, ops\n",
    "\n",
    "from common import autopad"
   ]
  },
  {
   "cell_type": "code",
   "execution_count": null,
   "id": "3872e5fb",
   "metadata": {},
   "outputs": [],
   "source": [
    "\n",
    "    "
   ]
  },
  {
   "cell_type": "code",
   "execution_count": null,
   "id": "d6ef0529",
   "metadata": {},
   "outputs": [],
   "source": [
    "# model构建\n",
    "class Conv(nn.Cell):\n",
    "    \"\"\"Standard convolution\"\"\"\n",
    "    def __init__(self, c1, c2, k=1, s=1, p=None, g=1, act=True):\n",
    "        \"\"\"\n",
    "        :param c1: channel input\n",
    "        :param c2: channel output\n",
    "        :param k: kernel\n",
    "        :param s: stride\n",
    "        :param p: padding\n",
    "        :param g: groups\n",
    "        \"\"\"\n",
    "        super().__init__()\n",
    "        # 默认通道顺序：NCHW\n",
    "        self.conv = nn.Conv2d(in_channels=c1, out_channels=c2, kernel_size=k, stride=s, pad_mode='pad', padding=autopad(k, p), group=g, has_bias=False)\n",
    "        self.bn = nn.BatchNorm2d(num_features=c2, eps=1e-5, momentum=0.1)\n",
    "        self.act = \n",
    "\n",
    "\n",
    "class Model(nn.Cell):\n",
    "    \"\"\"定义yolov5模型\"\"\"\n",
    "    def __init__(self, cfg='yolov5s.yaml', ch=3, nc=None, anchors=None):\n",
    "        \"\"\"\n",
    "        :param cfg: 模型初始化参数\n",
    "        :param ch: input channels\n",
    "        :param nc: number of classes\n",
    "        :param anchors: anchor 参数\n",
    "        \"\"\"\n",
    "        super().__init__()\n",
    "        with open(cfg, encoding='ascii', errors='ignore') as f:\n",
    "            self.yaml = yaml.safe_load(f)  # model dict\n",
    "            \n",
    "        # define model\n",
    "        ch = self.yaml['ch'] = self.yaml.get('ch', ch)  # input channels\n",
    "        if nc and nc!=self.yaml['nc']:\n",
    "            print(\"overriding model.yaml nc!!!\")\n",
    "            self.yaml['nc'] = nc\n",
    "        if anchors:\n",
    "            print(\"overriding model.yaml anchors!!!\")\n",
    "            self.yaml['anchors'] = round(anchors)   # 四舍五入？\n",
    "        \n",
    "        self.anchors, self.nc, self.gd, self.gw = \\\n",
    "            self.yaml['anchors'], self.yaml['nc'], self.yaml['depth_multiple'], self.yaml['width_multiple']\n",
    "        \n",
    "        na = (len(anchors[0]) // 2) if isinstance(anchors, list) else anchors   # number of anchors per layer\n",
    "        no = na * (nc + 5)   # numer of outputs   classes + pos + conf\n",
    "        \n",
    "        "
   ]
  }
 ],
 "metadata": {
  "kernelspec": {
   "display_name": "MindSpore",
   "language": "python",
   "name": "mindspore"
  },
  "language_info": {
   "codemirror_mode": {
    "name": "ipython",
    "version": 3
   },
   "file_extension": ".py",
   "mimetype": "text/x-python",
   "name": "python",
   "nbconvert_exporter": "python",
   "pygments_lexer": "ipython3",
   "version": "3.7.6"
  }
 },
 "nbformat": 4,
 "nbformat_minor": 5
}
